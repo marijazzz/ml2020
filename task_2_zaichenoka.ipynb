{
 "cells": [
  {
   "cell_type": "markdown",
   "metadata": {},
   "source": [
    "# HW2\n",
    "In this homework, stroke needs to be predicted from given data."
   ]
  },
  {
   "cell_type": "markdown",
   "metadata": {},
   "source": [
    "First, libraries and data need to be imported."
   ]
  },
  {
   "cell_type": "code",
   "execution_count": 99,
   "metadata": {},
   "outputs": [],
   "source": [
    "import numpy as np # linear algebra\n",
    "import pandas as pd # data processing, CSV file I/O (e.g. pd.read_csv)\n",
    "import matplotlib.pyplot as plt # data visualization\n",
    "from sklearn.metrics import roc_auc_score, roc_curve # roc_auc scoring\n",
    "from sklearn.model_selection import KFold # splitting data\n",
    "from sklearn.linear_model import LogisticRegression, SGDClassifier  # linear models\n",
    "from sklearn.model_selection import GridSearchCV, train_test_split # importing splitting train data and optimal hyperparameter search\n",
    "from sklearn.ensemble import RandomForestClassifier # Random forest\n",
    "from sklearn.tree import DecisionTreeClassifier # Decidiom tree\n",
    "from sklearn.preprocessing import MinMaxScaler, StandardScaler\n",
    "from category_encoders.woe import WOEEncoder"
   ]
  },
  {
   "cell_type": "code",
   "execution_count": 2,
   "metadata": {},
   "outputs": [],
   "source": [
    "#reading files and making dataframes out of them\n",
    "sample = pd.read_csv('sample_submission.csv')\n",
    "test = pd.read_csv('test.csv')"
   ]
  },
  {
   "cell_type": "markdown",
   "metadata": {},
   "source": [
    "### Part 1\n",
    "First, let's explore the data."
   ]
  },
  {
   "cell_type": "code",
   "execution_count": 3,
   "metadata": {},
   "outputs": [
    {
     "data": {
      "text/html": [
       "<div>\n",
       "<style scoped>\n",
       "    .dataframe tbody tr th:only-of-type {\n",
       "        vertical-align: middle;\n",
       "    }\n",
       "\n",
       "    .dataframe tbody tr th {\n",
       "        vertical-align: top;\n",
       "    }\n",
       "\n",
       "    .dataframe thead th {\n",
       "        text-align: right;\n",
       "    }\n",
       "</style>\n",
       "<table border=\"1\" class=\"dataframe\">\n",
       "  <thead>\n",
       "    <tr style=\"text-align: right;\">\n",
       "      <th></th>\n",
       "      <th>id</th>\n",
       "      <th>gender</th>\n",
       "      <th>age</th>\n",
       "      <th>hypertension</th>\n",
       "      <th>heart_disease</th>\n",
       "      <th>ever_married</th>\n",
       "      <th>work_type</th>\n",
       "      <th>Residence_type</th>\n",
       "      <th>avg_glucose_level</th>\n",
       "      <th>bmi</th>\n",
       "      <th>smoking_status</th>\n",
       "      <th>stroke</th>\n",
       "    </tr>\n",
       "  </thead>\n",
       "  <tbody>\n",
       "    <tr>\n",
       "      <th>0</th>\n",
       "      <td>30669</td>\n",
       "      <td>Male</td>\n",
       "      <td>3.0</td>\n",
       "      <td>0</td>\n",
       "      <td>0</td>\n",
       "      <td>No</td>\n",
       "      <td>children</td>\n",
       "      <td>Rural</td>\n",
       "      <td>95.12</td>\n",
       "      <td>18.0</td>\n",
       "      <td>NaN</td>\n",
       "      <td>0</td>\n",
       "    </tr>\n",
       "    <tr>\n",
       "      <th>1</th>\n",
       "      <td>30468</td>\n",
       "      <td>Male</td>\n",
       "      <td>58.0</td>\n",
       "      <td>1</td>\n",
       "      <td>0</td>\n",
       "      <td>Yes</td>\n",
       "      <td>Private</td>\n",
       "      <td>Urban</td>\n",
       "      <td>87.96</td>\n",
       "      <td>39.2</td>\n",
       "      <td>never smoked</td>\n",
       "      <td>0</td>\n",
       "    </tr>\n",
       "    <tr>\n",
       "      <th>2</th>\n",
       "      <td>16523</td>\n",
       "      <td>Female</td>\n",
       "      <td>8.0</td>\n",
       "      <td>0</td>\n",
       "      <td>0</td>\n",
       "      <td>No</td>\n",
       "      <td>Private</td>\n",
       "      <td>Urban</td>\n",
       "      <td>110.89</td>\n",
       "      <td>17.6</td>\n",
       "      <td>NaN</td>\n",
       "      <td>0</td>\n",
       "    </tr>\n",
       "    <tr>\n",
       "      <th>3</th>\n",
       "      <td>56543</td>\n",
       "      <td>Female</td>\n",
       "      <td>70.0</td>\n",
       "      <td>0</td>\n",
       "      <td>0</td>\n",
       "      <td>Yes</td>\n",
       "      <td>Private</td>\n",
       "      <td>Rural</td>\n",
       "      <td>69.04</td>\n",
       "      <td>35.9</td>\n",
       "      <td>formerly smoked</td>\n",
       "      <td>0</td>\n",
       "    </tr>\n",
       "    <tr>\n",
       "      <th>4</th>\n",
       "      <td>46136</td>\n",
       "      <td>Male</td>\n",
       "      <td>14.0</td>\n",
       "      <td>0</td>\n",
       "      <td>0</td>\n",
       "      <td>No</td>\n",
       "      <td>Never_worked</td>\n",
       "      <td>Rural</td>\n",
       "      <td>161.28</td>\n",
       "      <td>19.1</td>\n",
       "      <td>NaN</td>\n",
       "      <td>0</td>\n",
       "    </tr>\n",
       "  </tbody>\n",
       "</table>\n",
       "</div>"
      ],
      "text/plain": [
       "      id  gender   age  hypertension  heart_disease ever_married  \\\n",
       "0  30669    Male   3.0             0              0           No   \n",
       "1  30468    Male  58.0             1              0          Yes   \n",
       "2  16523  Female   8.0             0              0           No   \n",
       "3  56543  Female  70.0             0              0          Yes   \n",
       "4  46136    Male  14.0             0              0           No   \n",
       "\n",
       "      work_type Residence_type  avg_glucose_level   bmi   smoking_status  \\\n",
       "0      children          Rural              95.12  18.0              NaN   \n",
       "1       Private          Urban              87.96  39.2     never smoked   \n",
       "2       Private          Urban             110.89  17.6              NaN   \n",
       "3       Private          Rural              69.04  35.9  formerly smoked   \n",
       "4  Never_worked          Rural             161.28  19.1              NaN   \n",
       "\n",
       "   stroke  \n",
       "0       0  \n",
       "1       0  \n",
       "2       0  \n",
       "3       0  \n",
       "4       0  "
      ]
     },
     "execution_count": 3,
     "metadata": {},
     "output_type": "execute_result"
    }
   ],
   "source": [
    "train.head()"
   ]
  },
  {
   "cell_type": "markdown",
   "metadata": {},
   "source": [
    "Let's see if there is any correlation in the data."
   ]
  },
  {
   "cell_type": "code",
   "execution_count": 4,
   "metadata": {},
   "outputs": [
    {
     "data": {
      "text/html": [
       "<style  type=\"text/css\" >\n",
       "    #T_d67e0706_1451_11eb_b1cd_0cdd24fce95arow0_col0 {\n",
       "            background-color:  #b40426;\n",
       "            color:  #f1f1f1;\n",
       "        }    #T_d67e0706_1451_11eb_b1cd_0cdd24fce95arow0_col1 {\n",
       "            background-color:  #3b4cc0;\n",
       "            color:  #f1f1f1;\n",
       "        }    #T_d67e0706_1451_11eb_b1cd_0cdd24fce95arow0_col2 {\n",
       "            background-color:  #3b4cc0;\n",
       "            color:  #f1f1f1;\n",
       "        }    #T_d67e0706_1451_11eb_b1cd_0cdd24fce95arow0_col3 {\n",
       "            background-color:  #3b4cc0;\n",
       "            color:  #f1f1f1;\n",
       "        }    #T_d67e0706_1451_11eb_b1cd_0cdd24fce95arow0_col4 {\n",
       "            background-color:  #3b4cc0;\n",
       "            color:  #f1f1f1;\n",
       "        }    #T_d67e0706_1451_11eb_b1cd_0cdd24fce95arow0_col5 {\n",
       "            background-color:  #3b4cc0;\n",
       "            color:  #f1f1f1;\n",
       "        }    #T_d67e0706_1451_11eb_b1cd_0cdd24fce95arow0_col6 {\n",
       "            background-color:  #3b4cc0;\n",
       "            color:  #f1f1f1;\n",
       "        }    #T_d67e0706_1451_11eb_b1cd_0cdd24fce95arow1_col0 {\n",
       "            background-color:  #3c4ec2;\n",
       "            color:  #f1f1f1;\n",
       "        }    #T_d67e0706_1451_11eb_b1cd_0cdd24fce95arow1_col1 {\n",
       "            background-color:  #b40426;\n",
       "            color:  #f1f1f1;\n",
       "        }    #T_d67e0706_1451_11eb_b1cd_0cdd24fce95arow1_col2 {\n",
       "            background-color:  #93b5fe;\n",
       "            color:  #000000;\n",
       "        }    #T_d67e0706_1451_11eb_b1cd_0cdd24fce95arow1_col3 {\n",
       "            background-color:  #8caffe;\n",
       "            color:  #000000;\n",
       "        }    #T_d67e0706_1451_11eb_b1cd_0cdd24fce95arow1_col4 {\n",
       "            background-color:  #81a4fb;\n",
       "            color:  #000000;\n",
       "        }    #T_d67e0706_1451_11eb_b1cd_0cdd24fce95arow1_col5 {\n",
       "            background-color:  #aec9fc;\n",
       "            color:  #000000;\n",
       "        }    #T_d67e0706_1451_11eb_b1cd_0cdd24fce95arow1_col6 {\n",
       "            background-color:  #688aef;\n",
       "            color:  #000000;\n",
       "        }    #T_d67e0706_1451_11eb_b1cd_0cdd24fce95arow2_col0 {\n",
       "            background-color:  #3b4cc0;\n",
       "            color:  #f1f1f1;\n",
       "        }    #T_d67e0706_1451_11eb_b1cd_0cdd24fce95arow2_col1 {\n",
       "            background-color:  #92b4fe;\n",
       "            color:  #000000;\n",
       "        }    #T_d67e0706_1451_11eb_b1cd_0cdd24fce95arow2_col2 {\n",
       "            background-color:  #b40426;\n",
       "            color:  #f1f1f1;\n",
       "        }    #T_d67e0706_1451_11eb_b1cd_0cdd24fce95arow2_col3 {\n",
       "            background-color:  #5e7de7;\n",
       "            color:  #000000;\n",
       "        }    #T_d67e0706_1451_11eb_b1cd_0cdd24fce95arow2_col4 {\n",
       "            background-color:  #6788ee;\n",
       "            color:  #000000;\n",
       "        }    #T_d67e0706_1451_11eb_b1cd_0cdd24fce95arow2_col5 {\n",
       "            background-color:  #688aef;\n",
       "            color:  #000000;\n",
       "        }    #T_d67e0706_1451_11eb_b1cd_0cdd24fce95arow2_col6 {\n",
       "            background-color:  #4f69d9;\n",
       "            color:  #000000;\n",
       "        }    #T_d67e0706_1451_11eb_b1cd_0cdd24fce95arow3_col0 {\n",
       "            background-color:  #3b4cc0;\n",
       "            color:  #f1f1f1;\n",
       "        }    #T_d67e0706_1451_11eb_b1cd_0cdd24fce95arow3_col1 {\n",
       "            background-color:  #8badfd;\n",
       "            color:  #000000;\n",
       "        }    #T_d67e0706_1451_11eb_b1cd_0cdd24fce95arow3_col2 {\n",
       "            background-color:  #5d7ce6;\n",
       "            color:  #000000;\n",
       "        }    #T_d67e0706_1451_11eb_b1cd_0cdd24fce95arow3_col3 {\n",
       "            background-color:  #b40426;\n",
       "            color:  #f1f1f1;\n",
       "        }    #T_d67e0706_1451_11eb_b1cd_0cdd24fce95arow3_col4 {\n",
       "            background-color:  #6384eb;\n",
       "            color:  #000000;\n",
       "        }    #T_d67e0706_1451_11eb_b1cd_0cdd24fce95arow3_col5 {\n",
       "            background-color:  #485fd1;\n",
       "            color:  #f1f1f1;\n",
       "        }    #T_d67e0706_1451_11eb_b1cd_0cdd24fce95arow3_col6 {\n",
       "            background-color:  #5875e1;\n",
       "            color:  #000000;\n",
       "        }    #T_d67e0706_1451_11eb_b1cd_0cdd24fce95arow4_col0 {\n",
       "            background-color:  #3e51c5;\n",
       "            color:  #f1f1f1;\n",
       "        }    #T_d67e0706_1451_11eb_b1cd_0cdd24fce95arow4_col1 {\n",
       "            background-color:  #84a7fc;\n",
       "            color:  #000000;\n",
       "        }    #T_d67e0706_1451_11eb_b1cd_0cdd24fce95arow4_col2 {\n",
       "            background-color:  #6b8df0;\n",
       "            color:  #000000;\n",
       "        }    #T_d67e0706_1451_11eb_b1cd_0cdd24fce95arow4_col3 {\n",
       "            background-color:  #6788ee;\n",
       "            color:  #000000;\n",
       "        }    #T_d67e0706_1451_11eb_b1cd_0cdd24fce95arow4_col4 {\n",
       "            background-color:  #b40426;\n",
       "            color:  #f1f1f1;\n",
       "        }    #T_d67e0706_1451_11eb_b1cd_0cdd24fce95arow4_col5 {\n",
       "            background-color:  #7295f4;\n",
       "            color:  #000000;\n",
       "        }    #T_d67e0706_1451_11eb_b1cd_0cdd24fce95arow4_col6 {\n",
       "            background-color:  #536edd;\n",
       "            color:  #000000;\n",
       "        }    #T_d67e0706_1451_11eb_b1cd_0cdd24fce95arow5_col0 {\n",
       "            background-color:  #3d50c3;\n",
       "            color:  #f1f1f1;\n",
       "        }    #T_d67e0706_1451_11eb_b1cd_0cdd24fce95arow5_col1 {\n",
       "            background-color:  #aec9fc;\n",
       "            color:  #000000;\n",
       "        }    #T_d67e0706_1451_11eb_b1cd_0cdd24fce95arow5_col2 {\n",
       "            background-color:  #6b8df0;\n",
       "            color:  #000000;\n",
       "        }    #T_d67e0706_1451_11eb_b1cd_0cdd24fce95arow5_col3 {\n",
       "            background-color:  #4a63d3;\n",
       "            color:  #f1f1f1;\n",
       "        }    #T_d67e0706_1451_11eb_b1cd_0cdd24fce95arow5_col4 {\n",
       "            background-color:  #7093f3;\n",
       "            color:  #000000;\n",
       "        }    #T_d67e0706_1451_11eb_b1cd_0cdd24fce95arow5_col5 {\n",
       "            background-color:  #b40426;\n",
       "            color:  #f1f1f1;\n",
       "        }    #T_d67e0706_1451_11eb_b1cd_0cdd24fce95arow5_col6 {\n",
       "            background-color:  #3e51c5;\n",
       "            color:  #f1f1f1;\n",
       "        }    #T_d67e0706_1451_11eb_b1cd_0cdd24fce95arow6_col0 {\n",
       "            background-color:  #3b4cc0;\n",
       "            color:  #f1f1f1;\n",
       "        }    #T_d67e0706_1451_11eb_b1cd_0cdd24fce95arow6_col1 {\n",
       "            background-color:  #6788ee;\n",
       "            color:  #000000;\n",
       "        }    #T_d67e0706_1451_11eb_b1cd_0cdd24fce95arow6_col2 {\n",
       "            background-color:  #4e68d8;\n",
       "            color:  #000000;\n",
       "        }    #T_d67e0706_1451_11eb_b1cd_0cdd24fce95arow6_col3 {\n",
       "            background-color:  #5875e1;\n",
       "            color:  #000000;\n",
       "        }    #T_d67e0706_1451_11eb_b1cd_0cdd24fce95arow6_col4 {\n",
       "            background-color:  #4f69d9;\n",
       "            color:  #000000;\n",
       "        }    #T_d67e0706_1451_11eb_b1cd_0cdd24fce95arow6_col5 {\n",
       "            background-color:  #3b4cc0;\n",
       "            color:  #f1f1f1;\n",
       "        }    #T_d67e0706_1451_11eb_b1cd_0cdd24fce95arow6_col6 {\n",
       "            background-color:  #b40426;\n",
       "            color:  #f1f1f1;\n",
       "        }</style><table id=\"T_d67e0706_1451_11eb_b1cd_0cdd24fce95a\" ><thead>    <tr>        <th class=\"blank level0\" ></th>        <th class=\"col_heading level0 col0\" >id</th>        <th class=\"col_heading level0 col1\" >age</th>        <th class=\"col_heading level0 col2\" >hypertension</th>        <th class=\"col_heading level0 col3\" >heart_disease</th>        <th class=\"col_heading level0 col4\" >avg_glucose_level</th>        <th class=\"col_heading level0 col5\" >bmi</th>        <th class=\"col_heading level0 col6\" >stroke</th>    </tr></thead><tbody>\n",
       "                <tr>\n",
       "                        <th id=\"T_d67e0706_1451_11eb_b1cd_0cdd24fce95alevel0_row0\" class=\"row_heading level0 row0\" >id</th>\n",
       "                        <td id=\"T_d67e0706_1451_11eb_b1cd_0cdd24fce95arow0_col0\" class=\"data row0 col0\" >1</td>\n",
       "                        <td id=\"T_d67e0706_1451_11eb_b1cd_0cdd24fce95arow0_col1\" class=\"data row0 col1\" >0.0134422</td>\n",
       "                        <td id=\"T_d67e0706_1451_11eb_b1cd_0cdd24fce95arow0_col2\" class=\"data row0 col2\" >0.00982343</td>\n",
       "                        <td id=\"T_d67e0706_1451_11eb_b1cd_0cdd24fce95arow0_col3\" class=\"data row0 col3\" >0.00682854</td>\n",
       "                        <td id=\"T_d67e0706_1451_11eb_b1cd_0cdd24fce95arow0_col4\" class=\"data row0 col4\" >0.0221249</td>\n",
       "                        <td id=\"T_d67e0706_1451_11eb_b1cd_0cdd24fce95arow0_col5\" class=\"data row0 col5\" >0.0176893</td>\n",
       "                        <td id=\"T_d67e0706_1451_11eb_b1cd_0cdd24fce95arow0_col6\" class=\"data row0 col6\" >0.00736639</td>\n",
       "            </tr>\n",
       "            <tr>\n",
       "                        <th id=\"T_d67e0706_1451_11eb_b1cd_0cdd24fce95alevel0_row1\" class=\"row_heading level0 row1\" >age</th>\n",
       "                        <td id=\"T_d67e0706_1451_11eb_b1cd_0cdd24fce95arow1_col0\" class=\"data row1 col0\" >0.0134422</td>\n",
       "                        <td id=\"T_d67e0706_1451_11eb_b1cd_0cdd24fce95arow1_col1\" class=\"data row1 col1\" >1</td>\n",
       "                        <td id=\"T_d67e0706_1451_11eb_b1cd_0cdd24fce95arow1_col2\" class=\"data row1 col2\" >0.274369</td>\n",
       "                        <td id=\"T_d67e0706_1451_11eb_b1cd_0cdd24fce95arow1_col3\" class=\"data row1 col3\" >0.25277</td>\n",
       "                        <td id=\"T_d67e0706_1451_11eb_b1cd_0cdd24fce95arow1_col4\" class=\"data row1 col4\" >0.234806</td>\n",
       "                        <td id=\"T_d67e0706_1451_11eb_b1cd_0cdd24fce95arow1_col5\" class=\"data row1 col5\" >0.35584</td>\n",
       "                        <td id=\"T_d67e0706_1451_11eb_b1cd_0cdd24fce95arow1_col6\" class=\"data row1 col6\" >0.152684</td>\n",
       "            </tr>\n",
       "            <tr>\n",
       "                        <th id=\"T_d67e0706_1451_11eb_b1cd_0cdd24fce95alevel0_row2\" class=\"row_heading level0 row2\" >hypertension</th>\n",
       "                        <td id=\"T_d67e0706_1451_11eb_b1cd_0cdd24fce95arow2_col0\" class=\"data row2 col0\" >0.00982343</td>\n",
       "                        <td id=\"T_d67e0706_1451_11eb_b1cd_0cdd24fce95arow2_col1\" class=\"data row2 col1\" >0.274369</td>\n",
       "                        <td id=\"T_d67e0706_1451_11eb_b1cd_0cdd24fce95arow2_col2\" class=\"data row2 col2\" >1</td>\n",
       "                        <td id=\"T_d67e0706_1451_11eb_b1cd_0cdd24fce95arow2_col3\" class=\"data row2 col3\" >0.121906</td>\n",
       "                        <td id=\"T_d67e0706_1451_11eb_b1cd_0cdd24fce95arow2_col4\" class=\"data row2 col4\" >0.161272</td>\n",
       "                        <td id=\"T_d67e0706_1451_11eb_b1cd_0cdd24fce95arow2_col5\" class=\"data row2 col5\" >0.161511</td>\n",
       "                        <td id=\"T_d67e0706_1451_11eb_b1cd_0cdd24fce95arow2_col6\" class=\"data row2 col6\" >0.0734252</td>\n",
       "            </tr>\n",
       "            <tr>\n",
       "                        <th id=\"T_d67e0706_1451_11eb_b1cd_0cdd24fce95alevel0_row3\" class=\"row_heading level0 row3\" >heart_disease</th>\n",
       "                        <td id=\"T_d67e0706_1451_11eb_b1cd_0cdd24fce95arow3_col0\" class=\"data row3 col0\" >0.00682854</td>\n",
       "                        <td id=\"T_d67e0706_1451_11eb_b1cd_0cdd24fce95arow3_col1\" class=\"data row3 col1\" >0.25277</td>\n",
       "                        <td id=\"T_d67e0706_1451_11eb_b1cd_0cdd24fce95arow3_col2\" class=\"data row3 col2\" >0.121906</td>\n",
       "                        <td id=\"T_d67e0706_1451_11eb_b1cd_0cdd24fce95arow3_col3\" class=\"data row3 col3\" >1</td>\n",
       "                        <td id=\"T_d67e0706_1451_11eb_b1cd_0cdd24fce95arow3_col4\" class=\"data row3 col4\" >0.149709</td>\n",
       "                        <td id=\"T_d67e0706_1451_11eb_b1cd_0cdd24fce95arow3_col5\" class=\"data row3 col5\" >0.0609177</td>\n",
       "                        <td id=\"T_d67e0706_1451_11eb_b1cd_0cdd24fce95arow3_col6\" class=\"data row3 col6\" >0.101548</td>\n",
       "            </tr>\n",
       "            <tr>\n",
       "                        <th id=\"T_d67e0706_1451_11eb_b1cd_0cdd24fce95alevel0_row4\" class=\"row_heading level0 row4\" >avg_glucose_level</th>\n",
       "                        <td id=\"T_d67e0706_1451_11eb_b1cd_0cdd24fce95arow4_col0\" class=\"data row4 col0\" >0.0221249</td>\n",
       "                        <td id=\"T_d67e0706_1451_11eb_b1cd_0cdd24fce95arow4_col1\" class=\"data row4 col1\" >0.234806</td>\n",
       "                        <td id=\"T_d67e0706_1451_11eb_b1cd_0cdd24fce95arow4_col2\" class=\"data row4 col2\" >0.161272</td>\n",
       "                        <td id=\"T_d67e0706_1451_11eb_b1cd_0cdd24fce95arow4_col3\" class=\"data row4 col3\" >0.149709</td>\n",
       "                        <td id=\"T_d67e0706_1451_11eb_b1cd_0cdd24fce95arow4_col4\" class=\"data row4 col4\" >1</td>\n",
       "                        <td id=\"T_d67e0706_1451_11eb_b1cd_0cdd24fce95arow4_col5\" class=\"data row4 col5\" >0.188645</td>\n",
       "                        <td id=\"T_d67e0706_1451_11eb_b1cd_0cdd24fce95arow4_col6\" class=\"data row4 col6\" >0.0874264</td>\n",
       "            </tr>\n",
       "            <tr>\n",
       "                        <th id=\"T_d67e0706_1451_11eb_b1cd_0cdd24fce95alevel0_row5\" class=\"row_heading level0 row5\" >bmi</th>\n",
       "                        <td id=\"T_d67e0706_1451_11eb_b1cd_0cdd24fce95arow5_col0\" class=\"data row5 col0\" >0.0176893</td>\n",
       "                        <td id=\"T_d67e0706_1451_11eb_b1cd_0cdd24fce95arow5_col1\" class=\"data row5 col1\" >0.35584</td>\n",
       "                        <td id=\"T_d67e0706_1451_11eb_b1cd_0cdd24fce95arow5_col2\" class=\"data row5 col2\" >0.161511</td>\n",
       "                        <td id=\"T_d67e0706_1451_11eb_b1cd_0cdd24fce95arow5_col3\" class=\"data row5 col3\" >0.0609177</td>\n",
       "                        <td id=\"T_d67e0706_1451_11eb_b1cd_0cdd24fce95arow5_col4\" class=\"data row5 col4\" >0.188645</td>\n",
       "                        <td id=\"T_d67e0706_1451_11eb_b1cd_0cdd24fce95arow5_col5\" class=\"data row5 col5\" >1</td>\n",
       "                        <td id=\"T_d67e0706_1451_11eb_b1cd_0cdd24fce95arow5_col6\" class=\"data row5 col6\" >0.020317</td>\n",
       "            </tr>\n",
       "            <tr>\n",
       "                        <th id=\"T_d67e0706_1451_11eb_b1cd_0cdd24fce95alevel0_row6\" class=\"row_heading level0 row6\" >stroke</th>\n",
       "                        <td id=\"T_d67e0706_1451_11eb_b1cd_0cdd24fce95arow6_col0\" class=\"data row6 col0\" >0.00736639</td>\n",
       "                        <td id=\"T_d67e0706_1451_11eb_b1cd_0cdd24fce95arow6_col1\" class=\"data row6 col1\" >0.152684</td>\n",
       "                        <td id=\"T_d67e0706_1451_11eb_b1cd_0cdd24fce95arow6_col2\" class=\"data row6 col2\" >0.0734252</td>\n",
       "                        <td id=\"T_d67e0706_1451_11eb_b1cd_0cdd24fce95arow6_col3\" class=\"data row6 col3\" >0.101548</td>\n",
       "                        <td id=\"T_d67e0706_1451_11eb_b1cd_0cdd24fce95arow6_col4\" class=\"data row6 col4\" >0.0874264</td>\n",
       "                        <td id=\"T_d67e0706_1451_11eb_b1cd_0cdd24fce95arow6_col5\" class=\"data row6 col5\" >0.020317</td>\n",
       "                        <td id=\"T_d67e0706_1451_11eb_b1cd_0cdd24fce95arow6_col6\" class=\"data row6 col6\" >1</td>\n",
       "            </tr>\n",
       "    </tbody></table>"
      ],
      "text/plain": [
       "<pandas.io.formats.style.Styler at 0x7f8925c5dc10>"
      ]
     },
     "execution_count": 4,
     "metadata": {},
     "output_type": "execute_result"
    }
   ],
   "source": [
    "cor = train.corr()\n",
    "cor.style.background_gradient(cmap='coolwarm')"
   ]
  },
  {
   "cell_type": "markdown",
   "metadata": {},
   "source": [
    "It appears that there is no strong correlation. Now, let's visualize what we have."
   ]
  },
  {
   "cell_type": "code",
   "execution_count": 5,
   "metadata": {},
   "outputs": [
    {
     "data": {
      "image/png": "[encoded data removed]",
      "text/plain": [
       "<Figure size 720x720 with 1 Axes>"
      ]
     },
     "metadata": {},
     "output_type": "display_data"
    }
   ],
   "source": [
    "fig = plt.figure(figsize=(10, 10))\n",
    "fig.suptitle('Gender', fontsize=16)\n",
    "plt.pie(train.gender.value_counts(), labels=['Female', 'Male', 'Other'], explode=(0.01, 0.01, 0.1), colors=['Blue', 'Yellow', 'Red']) \n",
    "plt.show()"
   ]
  },
  {
   "cell_type": "markdown",
   "metadata": {},
   "source": [
    "Here we can see that there are three genders represented, althoug \"Other\" is almost absent from the dataset. The \"Male\" part of the dataset is represented a bit worse than \"Female\". This is a bit innacurate, as male part of the population in the world is a bit bigger, than female."
   ]
  },
  {
   "cell_type": "code",
   "execution_count": 6,
   "metadata": {},
   "outputs": [
    {
     "data": {
      "image/png": "[encoded data removed]",
      "text/plain": [
       "<Figure size 720x720 with 1 Axes>"
      ]
     },
     "metadata": {},
     "output_type": "display_data"
    }
   ],
   "source": [
    "fig = plt.figure(figsize=(10, 10))\n",
    "fig.suptitle('Hypertension', fontsize=16)\n",
    "plt.pie(train.hypertension.value_counts(), labels=['No', 'Yes'], explode=(0.01, 0.01), colors=['Blue', 'Yellow']) \n",
    "plt.show()"
   ]
  },
  {
   "cell_type": "markdown",
   "metadata": {},
   "source": [
    "In this diagram it is seen that about 10% of the dataset samples have hypertention. Generally, in the world, about 16-30% are affected by it."
   ]
  },
  {
   "cell_type": "code",
   "execution_count": 7,
   "metadata": {},
   "outputs": [
    {
     "data": {
      "image/png": "[encoded data removed]",
      "text/plain": [
       "<Figure size 720x720 with 1 Axes>"
      ]
     },
     "metadata": {},
     "output_type": "display_data"
    }
   ],
   "source": [
    "plt.figure(figsize=(10, 10))\n",
    "fig.suptitle('Heart disease', fontsize=16)\n",
    "plt.pie(train.heart_disease.value_counts(), labels=['No', 'Yes'], explode=(0.01, 0.01), colors=['Blue', 'Yellow']) \n",
    "plt.show()"
   ]
  },
  {
   "cell_type": "markdown",
   "metadata": {},
   "source": [
    "From this diagram, it can be seen that about 5% of the samples represented in the dataset have some kind of heart disease"
   ]
  },
  {
   "cell_type": "code",
   "execution_count": 8,
   "metadata": {},
   "outputs": [
    {
     "data": {
      "image/png": "[encoded data removed]",
      "text/plain": [
       "<Figure size 720x720 with 1 Axes>"
      ]
     },
     "metadata": {},
     "output_type": "display_data"
    }
   ],
   "source": [
    "fig = plt.figure(figsize=(10, 10))\n",
    "fig.suptitle('Ever married', fontsize=16)\n",
    "plt.pie(train.ever_married.value_counts(), labels=['Yes', 'No'], explode=(0.01, 0.01), colors=['Blue', 'Yellow']) \n",
    "plt.show()"
   ]
  },
  {
   "cell_type": "markdown",
   "metadata": {},
   "source": [
    "This diagram shows that about 2/3 of samples have ever been married."
   ]
  },
  {
   "cell_type": "code",
   "execution_count": 9,
   "metadata": {},
   "outputs": [
    {
     "data": {
      "image/png": "[encoded data removed]",
      "text/plain": [
       "<Figure size 720x720 with 1 Axes>"
      ]
     },
     "metadata": {},
     "output_type": "display_data"
    }
   ],
   "source": [
    "fig = plt.figure(figsize=(10, 10))\n",
    "fig.suptitle('Work type', fontsize=16)\n",
    "plt.pie(train.work_type.value_counts(), labels=['Private', 'Self-employed', 'children', 'Govt_job', \n",
    "                                                'Never_worked'], explode=(0.01, 0.01, 0.01, 0.01, 0.1), \n",
    "                                         colors=['Blue', 'Yellow', 'Red', 'Green', 'Fuchsia']) \n",
    "plt.show()"
   ]
  },
  {
   "cell_type": "markdown",
   "metadata": {},
   "source": [
    "This diagram shows the different work types samples have."
   ]
  },
  {
   "cell_type": "code",
   "execution_count": 10,
   "metadata": {},
   "outputs": [
    {
     "data": {
      "image/png": "[encoded data removed]",
      "text/plain": [
       "<Figure size 720x720 with 1 Axes>"
      ]
     },
     "metadata": {},
     "output_type": "display_data"
    }
   ],
   "source": [
    "fig = plt.figure(figsize=(10, 10))\n",
    "fig.suptitle('Residence type', fontsize=16)\n",
    "plt.pie(train.Residence_type.value_counts(), labels=['Urban', 'Rural'], explode=(0.01, 0.01), colors=['Blue', 'Yellow']) \n",
    "plt.show()"
   ]
  },
  {
   "cell_type": "markdown",
   "metadata": {},
   "source": [
    "In this diagram it can be seen that about half of samples live in rural areas. As statistics show, a bit more people live in urban areas than in rural."
   ]
  },
  {
   "cell_type": "code",
   "execution_count": 11,
   "metadata": {},
   "outputs": [
    {
     "data": {
      "image/png": "[encoded data removed]",
      "text/plain": [
       "<Figure size 720x720 with 1 Axes>"
      ]
     },
     "metadata": {},
     "output_type": "display_data"
    }
   ],
   "source": [
    "train['smoking_status'] = train['smoking_status'].fillna('no data') # for the timebeing, replacing nan with 'no data'\n",
    "test['smoking_status'] = test['smoking_status'].fillna('no data')\n",
    "labels = list(['never smoked', 'no data', 'formerly smoked', 'smokes'])\n",
    "fig = plt.figure(figsize=(10, 10))\n",
    "fig.suptitle('Smoking status', fontsize=16)\n",
    "plt.pie(train.smoking_status.value_counts(), labels=labels,\n",
    "        explode=(0.01, 0.01, 0.01, 0.01), colors=['Blue', 'Yellow', 'Green', 'Fuchsia']) \n",
    "plt.show()"
   ]
  },
  {
   "cell_type": "markdown",
   "metadata": {},
   "source": [
    "This diagram shows sample smoking tendencies, but, as it can be seen, a large part of dataset does not have information about smoking status."
   ]
  },
  {
   "cell_type": "code",
   "execution_count": 12,
   "metadata": {},
   "outputs": [
    {
     "data": {
      "image/png": "[encoded data removed]",
      "text/plain": [
       "<Figure size 720x720 with 1 Axes>"
      ]
     },
     "metadata": {
      "needs_background": "light"
     },
     "output_type": "display_data"
    }
   ],
   "source": [
    "mean_bmi = train['bmi'].mean()\n",
    "train['bmi'] = train['bmi'].fillna(mean_bmi) # replacing nan with mean value\n",
    "test['bmi'] = test['bmi'].fillna(mean_bmi)\n",
    "fig = plt.figure(figsize=(10, 10))\n",
    "fig.suptitle('Bmi', fontsize=16)\n",
    "plt.hist(train.bmi.values,bins=20) \n",
    "plt.show()"
   ]
  },
  {
   "cell_type": "markdown",
   "metadata": {},
   "source": [
    "The healthy BMI values lie between 18.5 and 25. In this dataset, a lot of people are overweight."
   ]
  },
  {
   "cell_type": "code",
   "execution_count": 13,
   "metadata": {},
   "outputs": [
    {
     "data": {
      "image/png": "[encoded data removed]",
      "text/plain": [
       "<Figure size 720x720 with 1 Axes>"
      ]
     },
     "metadata": {
      "needs_background": "light"
     },
     "output_type": "display_data"
    }
   ],
   "source": [
    "fig = plt.figure(figsize=(10, 10))\n",
    "fig.suptitle('Average glucose level', fontsize=16)\n",
    "plt.hist(train.avg_glucose_level.values,bins=20) \n",
    "plt.show()"
   ]
  },
  {
   "cell_type": "markdown",
   "metadata": {},
   "source": [
    "Although it is not indicated, average glucose level is probably measured in mg/dL. If so, the healthy values lie between 72 and 99.If more, a person has type 1 or 2 diabetes."
   ]
  },
  {
   "cell_type": "code",
   "execution_count": 14,
   "metadata": {},
   "outputs": [
    {
     "data": {
      "image/png": "[encoded data removed]",
      "text/plain": [
       "<Figure size 720x720 with 1 Axes>"
      ]
     },
     "metadata": {
      "needs_background": "light"
     },
     "output_type": "display_data"
    }
   ],
   "source": [
    "fig = plt.figure(figsize=(10, 10))\n",
    "fig.suptitle('Age', fontsize=16)\n",
    "plt.hist(train.age.values,bins=20) \n",
    "plt.show()"
   ]
  },
  {
   "cell_type": "markdown",
   "metadata": {},
   "source": [
    "From this histogram, it can be seen that most samples are adults about 40 - 60 years old"
   ]
  },
  {
   "cell_type": "markdown",
   "metadata": {},
   "source": [
    "### Part 2\n",
    "Next, we need to work on the data. "
   ]
  },
  {
   "cell_type": "code",
   "execution_count": 15,
   "metadata": {},
   "outputs": [],
   "source": [
    "y = train['stroke']\n",
    "train = train.drop(['id', 'stroke'], axis=1)\n",
    "test = test.drop(['id'], axis=1)"
   ]
  },
  {
   "cell_type": "markdown",
   "metadata": {},
   "source": [
    "Let's use WOE for every categorical data"
   ]
  },
  {
   "cell_type": "code",
   "execution_count": 20,
   "metadata": {},
   "outputs": [],
   "source": [
    "woe = WOEEncoder()\n",
    "woe.fit(train['gender'], y)\n",
    "train['gender'] = woe.transform(train['gender'])\n",
    "test['gender'] = woe.transform(test['gender'])"
   ]
  },
  {
   "cell_type": "code",
   "execution_count": 21,
   "metadata": {},
   "outputs": [],
   "source": [
    "woe = WOEEncoder()\n",
    "woe.fit(train['smoking_status'], y)\n",
    "train['smoking_status'] = woe.transform(train['smoking_status'])\n",
    "test['smoking_status'] = woe.transform(test['smoking_status'])"
   ]
  },
  {
   "cell_type": "code",
   "execution_count": 22,
   "metadata": {},
   "outputs": [],
   "source": [
    "woe = WOEEncoder()\n",
    "woe.fit(train['Residence_type'], y)\n",
    "train['Residence_type'] = woe.transform(train['Residence_type'])\n",
    "test['Residence_type'] = woe.transform(test['Residence_type'])"
   ]
  },
  {
   "cell_type": "code",
   "execution_count": 23,
   "metadata": {},
   "outputs": [],
   "source": [
    "woe = WOEEncoder()\n",
    "woe.fit(train['work_type'], y)\n",
    "train['work_type'] = woe.transform(train['work_type'])\n",
    "test['work_type'] = woe.transform(test['work_type'])"
   ]
  },
  {
   "cell_type": "code",
   "execution_count": 24,
   "metadata": {},
   "outputs": [],
   "source": [
    "woe = WOEEncoder()\n",
    "woe.fit(train['ever_married'], y)\n",
    "train['ever_married'] = woe.transform(train['ever_married'])\n",
    "test['ever_married'] = woe.transform(test['ever_married'])"
   ]
  },
  {
   "cell_type": "markdown",
   "metadata": {},
   "source": [
    "For glucose level and bmi, let's perform MinMax normalization."
   ]
  },
  {
   "cell_type": "code",
   "execution_count": 32,
   "metadata": {},
   "outputs": [
    {
     "data": {
      "text/plain": [
       "MinMaxScaler(copy=True, feature_range=(0, 1))"
      ]
     },
     "execution_count": 32,
     "metadata": {},
     "output_type": "execute_result"
    }
   ],
   "source": [
    "scaler = MinMaxScaler()\n",
    "scaler.fit(train['avg_glucose_level'].values.reshape(-1, 1))"
   ]
  },
  {
   "cell_type": "code",
   "execution_count": 33,
   "metadata": {},
   "outputs": [],
   "source": [
    "train['avg_glucose_level'] = scaler.transform(train['avg_glucose_level'].values.reshape(-1, 1))\n",
    "test['avg_glucose_level'] = scaler.transform(test['avg_glucose_level'].values.reshape(-1, 1))"
   ]
  },
  {
   "cell_type": "code",
   "execution_count": 35,
   "metadata": {},
   "outputs": [],
   "source": [
    "scaler = MinMaxScaler()\n",
    "scaler.fit(train['bmi'].values.reshape(-1, 1))\n",
    "train['bmi'] = scaler.transform(train['bmi'].values.reshape(-1, 1))\n",
    "test['bmi'] = scaler.transform(test['bmi'].values.reshape(-1, 1))"
   ]
  },
  {
   "cell_type": "markdown",
   "metadata": {},
   "source": [
    "For age, let's use normalization to N(0, 1)"
   ]
  },
  {
   "cell_type": "code",
   "execution_count": 37,
   "metadata": {},
   "outputs": [],
   "source": [
    "scaler = StandardScaler()\n",
    "scaler.fit(train['age'].values.reshape(-1, 1))\n",
    "train['age'] = scaler.transform(train['age'].values.reshape(-1, 1))\n",
    "test['age'] = scaler.transform(test['age'].values.reshape(-1, 1))"
   ]
  },
  {
   "cell_type": "markdown",
   "metadata": {},
   "source": [
    "### Part 3\n",
    "Here, the models will be trained and submissions will be made."
   ]
  },
  {
   "cell_type": "code",
   "execution_count": 44,
   "metadata": {},
   "outputs": [],
   "source": [
    "def my_cross_validation(clf, X, y ,cv=5): # crossvalidation\n",
    "    X = np.array(X.copy())\n",
    "    y = np.array(y.copy())\n",
    "    kf = KFold(n_splits=cv)\n",
    "    kf.get_n_splits(X)\n",
    "    scores = []\n",
    "    for train_index, test_index in kf.split(X):\n",
    "        X_train, X_test = X[train_index], X[test_index]\n",
    "        y_train, y_test = y[train_index], y[test_index]\n",
    "        clf.fit(X_train, y_train)\n",
    "        prediction_on_this_fold = clf.predict_proba(X_test)[:,1]\n",
    "        score = roc_auc_score(y_score=prediction_on_this_fold, y_true=y_test)\n",
    "        scores.append(score)\n",
    "    return scores"
   ]
  },
  {
   "cell_type": "markdown",
   "metadata": {},
   "source": [
    "First, let's split data so that we always have a part to test on locally."
   ]
  },
  {
   "cell_type": "code",
   "execution_count": 122,
   "metadata": {},
   "outputs": [],
   "source": [
    "X_train, X_test, Y_train, Y_test = train_test_split(train, y, test_size=0.2)"
   ]
  },
  {
   "cell_type": "markdown",
   "metadata": {},
   "source": [
    "#### Logistic regression\n",
    "Now, let's figure out best cross-validation value for best model."
   ]
  },
  {
   "cell_type": "code",
   "execution_count": 123,
   "metadata": {},
   "outputs": [
    {
     "name": "stdout",
     "output_type": "stream",
     "text": [
      "3 0.8429641320985533\n",
      "4 0.8445470544853066\n",
      "5 0.8447847017586924\n",
      "6 0.8453038675172114\n",
      "7 0.8457242599913846\n",
      "8 0.8446570745714891\n",
      "9 0.8463729962255319\n",
      "10 0.84526049068771\n",
      "11 0.8474424744127826\n",
      "12 0.8444563126115487\n",
      "13 0.8463122380188447\n",
      "14 0.8451049140502743\n",
      "15 0.8463580612665178\n",
      "16 0.8465452940022866\n",
      "17 0.8460578299236651\n",
      "18 0.8441790715126845\n",
      "19 0.8459684853449709\n",
      "20 0.8458178712238947\n"
     ]
    }
   ],
   "source": [
    "for i in range(3, 21):\n",
    "    model=LogisticRegression()\n",
    "    print(i, np.mean(my_cross_validation(model, X_train, Y_train, cv=i)))"
   ]
  },
  {
   "cell_type": "markdown",
   "metadata": {},
   "source": [
    "Looks like optimal split for logistic regression would be 11. <br>\n",
    "Next, let's perform feature selection using crossvalidation."
   ]
  },
  {
   "cell_type": "code",
   "execution_count": 124,
   "metadata": {},
   "outputs": [
    {
     "name": "stdout",
     "output_type": "stream",
     "text": [
      "gender 0.5192813038601239\n",
      "age 0.8350306386754166\n",
      "hypertension 0.5797323353409675\n",
      "heart_disease 0.5870170559684316\n",
      "ever_married 0.6209178076025295\n",
      "work_type 0.6175758743578054\n",
      "Residence_type 0.46455321249163234\n",
      "avg_glucose_level 0.6251474523922045\n",
      "bmi 0.5633505623113855\n",
      "smoking_status 0.58806182291569\n"
     ]
    }
   ],
   "source": [
    "features = X_train.columns\n",
    "model = LogisticRegression()\n",
    "features_scores = {}\n",
    "for f in features:\n",
    "    scores = my_cross_validation(model, X_train[[f]] , Y_train, 11)\n",
    "    print(f,  np.mean(scores))\n",
    "    features_scores[f] = np.mean(scores)"
   ]
  },
  {
   "cell_type": "markdown",
   "metadata": {},
   "source": [
    "For logistic regression, we see that strong prediction power belongs to age, ever_married, work_type, avg_glucose_level (let's choose every feature for which ROC-AUC score is bigger than 0.6)."
   ]
  },
  {
   "cell_type": "code",
   "execution_count": 125,
   "metadata": {},
   "outputs": [],
   "source": [
    "features_log_reg = ['age', 'ever_married', 'work_type', 'avg_glucose_level']\n",
    "X_train, X_test = X_train[features_log_reg], X_test[features_log_reg]"
   ]
  },
  {
   "cell_type": "code",
   "execution_count": 126,
   "metadata": {},
   "outputs": [],
   "source": [
    "params_log_reg = {\n",
    "    'penalty' : [ 'l2', 'l1', 'elasticnet'],\n",
    "    \"tol\" : [1e-5, 1e-3, 1e-4],\n",
    "    'solver' :['newton-cg', 'lbfgs', 'liblinear', 'sag', 'saga'], \n",
    "    \"max_iter\" : [ 50, 100, 500, 1000, 1500, 2000, 2500]\n",
    "}"
   ]
  },
  {
   "cell_type": "code",
   "execution_count": 127,
   "metadata": {},
   "outputs": [],
   "source": [
    "model = LogisticRegression()\n",
    "grid = GridSearchCV(model, params_log_reg, n_jobs=15, scoring=\"roc_auc\", cv=11, verbose=5) \n",
    "#searching through all possible hypreparemeter combinations with 10-fold cross-validation and \n",
    "#choosing the combination with best auc score"
   ]
  },
  {
   "cell_type": "code",
   "execution_count": 128,
   "metadata": {},
   "outputs": [
    {
     "name": "stdout",
     "output_type": "stream",
     "text": [
      "Fitting 11 folds for each of 315 candidates, totalling 3465 fits\n"
     ]
    },
    {
     "name": "stderr",
     "output_type": "stream",
     "text": [
      "[Parallel(n_jobs=15)]: Using backend LokyBackend with 15 concurrent workers.\n",
      "[Parallel(n_jobs=15)]: Done  42 tasks      | elapsed:    2.4s\n",
      "[Parallel(n_jobs=15)]: Done 132 tasks      | elapsed:    3.9s\n",
      "[Parallel(n_jobs=15)]: Done 297 tasks      | elapsed:    5.2s\n",
      "[Parallel(n_jobs=15)]: Done 945 tasks      | elapsed:    9.7s\n",
      "[Parallel(n_jobs=15)]: Done 1722 tasks      | elapsed:   16.9s\n",
      "[Parallel(n_jobs=15)]: Done 2271 tasks      | elapsed:   21.9s\n",
      "[Parallel(n_jobs=15)]: Done 2928 tasks      | elapsed:   26.9s\n",
      "[Parallel(n_jobs=15)]: Done 3465 out of 3465 | elapsed:   31.7s finished\n"
     ]
    },
    {
     "data": {
      "text/plain": [
       "GridSearchCV(cv=11, error_score=nan,\n",
       "             estimator=LogisticRegression(C=1.0, class_weight=None, dual=False,\n",
       "                                          fit_intercept=True,\n",
       "                                          intercept_scaling=1, l1_ratio=None,\n",
       "                                          max_iter=100, multi_class='auto',\n",
       "                                          n_jobs=None, penalty='l2',\n",
       "                                          random_state=None, solver='lbfgs',\n",
       "                                          tol=0.0001, verbose=0,\n",
       "                                          warm_start=False),\n",
       "             iid='deprecated', n_jobs=15,\n",
       "             param_grid={'max_iter': [50, 100, 500, 1000, 1500, 2000, 2500],\n",
       "                         'penalty': ['l2', 'l1', 'elasticnet'],\n",
       "                         'solver': ['newton-cg', 'lbfgs', 'liblinear', 'sag',\n",
       "                                    'saga'],\n",
       "                         'tol': [1e-05, 0.001, 0.0001]},\n",
       "             pre_dispatch='2*n_jobs', refit=True, return_train_score=False,\n",
       "             scoring='roc_auc', verbose=5)"
      ]
     },
     "execution_count": 128,
     "metadata": {},
     "output_type": "execute_result"
    }
   ],
   "source": [
    "grid.fit(X_train, Y_train)"
   ]
  },
  {
   "cell_type": "markdown",
   "metadata": {},
   "source": [
    "Next, let's fix all parameters except number of iterations "
   ]
  },
  {
   "cell_type": "code",
   "execution_count": 129,
   "metadata": {},
   "outputs": [
    {
     "data": {
      "image/png": "[encoded data removed]",
      "text/plain": [
       "<Figure size 432x288 with 1 Axes>"
      ]
     },
     "metadata": {
      "needs_background": "light"
     },
     "output_type": "display_data"
    }
   ],
   "source": [
    "max_iter = [50, 100, 500, 1000, 1500, 2000, 2500]\n",
    "solver_log = ['newton-cg', 'lbfgs', 'liblinear', 'sag', 'saga']\n",
    "tol_log = [1e-1, 1e-2, 1e-3, 1e-4, 1e-5]\n",
    "scores_from_param = []\n",
    "for i in max_iter:\n",
    "    model = LogisticRegression(max_iter=i, solver='lbfgs', tol=1e-4)\n",
    "    scores_from_param.append(np.mean(my_cross_validation(model, X_train, Y_train, 11)))\n",
    "plt.scatter(max_iter, scores_from_param)\n",
    "plt.xlabel('max_iter')\n",
    "plt.ylabel('ROC-AUC')\n",
    "plt.title('ROC-AUC from max_iter')\n",
    "plt.show()"
   ]
  },
  {
   "cell_type": "code",
   "execution_count": 130,
   "metadata": {},
   "outputs": [
    {
     "data": {
      "image/png": "[encoded data removed]",
      "text/plain": [
       "<Figure size 432x288 with 1 Axes>"
      ]
     },
     "metadata": {
      "needs_background": "light"
     },
     "output_type": "display_data"
    }
   ],
   "source": [
    "scores_from_param = []\n",
    "for i in solver_log:\n",
    "    model = LogisticRegression(solver=i, tol=1e-4, max_iter=100)\n",
    "    scores_from_param.append(np.mean(my_cross_validation(model, X_train, Y_train, 11)))\n",
    "plt.scatter(solver_log, scores_from_param)\n",
    "plt.xlabel('solver')\n",
    "plt.ylabel('ROC-AUC')\n",
    "plt.title('ROC-AUC from solver')\n",
    "plt.show()"
   ]
  },
  {
   "cell_type": "code",
   "execution_count": 131,
   "metadata": {},
   "outputs": [
    {
     "data": {
      "image/png": "[encoded data removed]",
      "text/plain": [
       "<Figure size 432x288 with 1 Axes>"
      ]
     },
     "metadata": {
      "needs_background": "light"
     },
     "output_type": "display_data"
    }
   ],
   "source": [
    "scores_from_param = []\n",
    "for i in tol_log:\n",
    "    model = LogisticRegression(solver='lbfgs', tol=i, max_iter=100)\n",
    "    scores_from_param.append(np.mean(my_cross_validation(model, X_train, Y_train, 11)))\n",
    "plt.scatter(solver_log, scores_from_param)\n",
    "plt.xlabel('solver')\n",
    "plt.ylabel('ROC-AUC')\n",
    "plt.title('ROC-AUC from solver')\n",
    "plt.show()"
   ]
  },
  {
   "cell_type": "markdown",
   "metadata": {},
   "source": [
    "It is clearly seen that there is no strong influence from parameters to the model. <br>\n",
    "Finally, let's train best estimator on X_train and than check it on X_test"
   ]
  },
  {
   "cell_type": "code",
   "execution_count": 132,
   "metadata": {},
   "outputs": [
    {
     "data": {
      "text/plain": [
       "LogisticRegression(C=1.0, class_weight=None, dual=False, fit_intercept=True,\n",
       "                   intercept_scaling=1, l1_ratio=None, max_iter=1000,\n",
       "                   multi_class='auto', n_jobs=None, penalty='l1',\n",
       "                   random_state=None, solver='saga', tol=0.001, verbose=0,\n",
       "                   warm_start=False)"
      ]
     },
     "execution_count": 132,
     "metadata": {},
     "output_type": "execute_result"
    }
   ],
   "source": [
    "model = grid.best_estimator_\n",
    "model.fit(X_train, Y_train)"
   ]
  },
  {
   "cell_type": "markdown",
   "metadata": {},
   "source": [
    "Now, let's predict on the part that we left for the test and plot roc-curve."
   ]
  },
  {
   "cell_type": "code",
   "execution_count": 133,
   "metadata": {},
   "outputs": [],
   "source": [
    "scores = model.predict_proba(X_test)"
   ]
  },
  {
   "cell_type": "code",
   "execution_count": 108,
   "metadata": {},
   "outputs": [],
   "source": [
    "fpr, tpr, thresholds = roc_curve(Y_test, scores[:,1])"
   ]
  },
  {
   "cell_type": "code",
   "execution_count": 134,
   "metadata": {},
   "outputs": [
    {
     "data": {
      "text/plain": [
       "<function matplotlib.pyplot.show(*args, **kw)>"
      ]
     },
     "execution_count": 134,
     "metadata": {},
     "output_type": "execute_result"
    },
    {
     "data": {
      "image/png": "[encoded data removed]",
      "text/plain": [
       "<Figure size 432x288 with 1 Axes>"
      ]
     },
     "metadata": {
      "needs_background": "light"
     },
     "output_type": "display_data"
    }
   ],
   "source": [
    "plt.plot(fpr, tpr)\n",
    "plt.xlabel('TPR')\n",
    "plt.ylabel('FPR')\n",
    "plt.title('Roc curve')\n",
    "plt.show"
   ]
  },
  {
   "cell_type": "markdown",
   "metadata": {},
   "source": [
    "Local roc-auc score"
   ]
  },
  {
   "cell_type": "code",
   "execution_count": 135,
   "metadata": {},
   "outputs": [
    {
     "data": {
      "text/plain": [
       "0.8491573290199711"
      ]
     },
     "execution_count": 135,
     "metadata": {},
     "output_type": "execute_result"
    }
   ],
   "source": [
    "roc_auc_score(Y_test, scores[:, 1])"
   ]
  },
  {
   "cell_type": "code",
   "execution_count": 136,
   "metadata": {},
   "outputs": [],
   "source": [
    "res = model.predict_proba(test[features_log_reg])\n",
    "sample['stroke'] = res[:, 1]\n",
    "sample.to_csv('submit_log_reg.csv', index = None )"
   ]
  },
  {
   "cell_type": "markdown",
   "metadata": {},
   "source": [
    "Leaderboard score - 0.84726"
   ]
  },
  {
   "cell_type": "markdown",
   "metadata": {},
   "source": [
    "#### Decision tree\n",
    "Now, repeat all the same steps for decision tree"
   ]
  },
  {
   "cell_type": "code",
   "execution_count": 162,
   "metadata": {},
   "outputs": [],
   "source": [
    "X_train, X_test, Y_train, Y_test = train_test_split(train, y, test_size=0.2)"
   ]
  },
  {
   "cell_type": "code",
   "execution_count": 163,
   "metadata": {},
   "outputs": [
    {
     "name": "stdout",
     "output_type": "stream",
     "text": [
      "3 0.5214310511440909\n",
      "4 0.5269828962244512\n",
      "5 0.5360167572355036\n",
      "6 0.525545909926833\n",
      "7 0.519304935948124\n",
      "8 0.5265844483087523\n",
      "9 0.5382408438392144\n",
      "10 0.5380944209346146\n",
      "11 0.539242944303608\n",
      "12 0.5283690057452894\n",
      "13 0.5195124623394027\n",
      "14 0.5298967430707975\n",
      "15 0.530139567446366\n",
      "16 0.5328230412358824\n",
      "17 0.528346586736119\n",
      "18 0.5410866985683962\n",
      "19 0.5422849452271454\n",
      "20 0.5295756335202083\n"
     ]
    }
   ],
   "source": [
    "for i in range(3, 21):\n",
    "    model=DecisionTreeClassifier()\n",
    "    print(i, np.mean(my_cross_validation(model, X_train, Y_train, cv=i)))"
   ]
  },
  {
   "cell_type": "markdown",
   "metadata": {},
   "source": [
    "Optimal split - 12"
   ]
  },
  {
   "cell_type": "code",
   "execution_count": 164,
   "metadata": {},
   "outputs": [
    {
     "name": "stdout",
     "output_type": "stream",
     "text": [
      "gender 0.5242386713108597\n",
      "age 0.8284608779927605\n",
      "hypertension 0.5844710042882507\n",
      "heart_disease 0.5807653936546807\n",
      "ever_married 0.6332965500631439\n",
      "work_type 0.624772887037436\n",
      "Residence_type 0.5066619033107643\n",
      "avg_glucose_level 0.49780069833551965\n",
      "bmi 0.5685610660567102\n",
      "smoking_status 0.591227884387428\n"
     ]
    }
   ],
   "source": [
    "features = X_train.columns\n",
    "model = DecisionTreeClassifier()\n",
    "features_scores = {}\n",
    "for f in features:\n",
    "    scores = my_cross_validation(model, X_train[[f]] , Y_train, 12)\n",
    "    print(f,  np.mean(scores))\n",
    "    features_scores[f] = np.mean(scores)"
   ]
  },
  {
   "cell_type": "markdown",
   "metadata": {},
   "source": [
    "For decision tree, we see that strong prediction power belongs to age, ever_married, work_type, smoking_status and hypertension (let's choose every feature for which ROC-AUC score is bigger than 0.59)."
   ]
  },
  {
   "cell_type": "code",
   "execution_count": 165,
   "metadata": {},
   "outputs": [],
   "source": [
    "features_dec_tree = ['age', 'ever_married', 'work_type', 'smoking_status', 'hypertension']\n",
    "X_train, X_test = X_train[features_dec_tree], X_test[features_dec_tree]"
   ]
  },
  {
   "cell_type": "code",
   "execution_count": 166,
   "metadata": {},
   "outputs": [],
   "source": [
    "params_dec_tree = {\n",
    "    'criterion' : ['gini', 'entropy'],\n",
    "    'splitter' : ['best', 'random'],\n",
    "    'min_samples_split': [2, 4, 6, 8, 10],\n",
    "    'min_samples_leaf': [1, 2, 3, 4, 5],\n",
    "    'max_features': ['auto', 'sqrt', 'log'], \n",
    "    'max_leaf_nodes': [None, 6, 10, 14, 20]\n",
    "}\n",
    "model = DecisionTreeClassifier()\n",
    "grid = GridSearchCV(model, params_dec_tree, n_jobs=15, scoring=\"roc_auc\", cv=12, verbose=5) \n",
    "#searching through all possible hypreparemeter combinations with 10-fold cross-validation and \n",
    "#choosing the combination with best auc score"
   ]
  },
  {
   "cell_type": "code",
   "execution_count": 167,
   "metadata": {},
   "outputs": [
    {
     "name": "stdout",
     "output_type": "stream",
     "text": [
      "Fitting 12 folds for each of 1500 candidates, totalling 18000 fits\n"
     ]
    },
    {
     "name": "stderr",
     "output_type": "stream",
     "text": [
      "[Parallel(n_jobs=15)]: Using backend LokyBackend with 15 concurrent workers.\n",
      "[Parallel(n_jobs=15)]: Done  42 tasks      | elapsed:    2.2s\n",
      "[Parallel(n_jobs=15)]: Done 132 tasks      | elapsed:    2.8s\n",
      "[Parallel(n_jobs=15)]: Done 366 tasks      | elapsed:    3.9s\n",
      "[Parallel(n_jobs=15)]: Done 690 tasks      | elapsed:    5.3s\n",
      "[Parallel(n_jobs=15)]: Done 1086 tasks      | elapsed:    7.0s\n",
      "[Parallel(n_jobs=15)]: Done 1554 tasks      | elapsed:    9.1s\n",
      "[Parallel(n_jobs=15)]: Done 2094 tasks      | elapsed:   11.6s\n",
      "[Parallel(n_jobs=15)]: Done 2706 tasks      | elapsed:   14.8s\n",
      "[Parallel(n_jobs=15)]: Done 3390 tasks      | elapsed:   18.5s\n",
      "[Parallel(n_jobs=15)]: Done 4146 tasks      | elapsed:   22.2s\n",
      "[Parallel(n_jobs=15)]: Done 4974 tasks      | elapsed:   26.1s\n",
      "[Parallel(n_jobs=15)]: Done 5874 tasks      | elapsed:   30.4s\n",
      "[Parallel(n_jobs=15)]: Done 7452 tasks      | elapsed:   36.9s\n",
      "[Parallel(n_jobs=15)]: Done 9540 tasks      | elapsed:   45.1s\n",
      "[Parallel(n_jobs=15)]: Done 11772 tasks      | elapsed:   54.0s\n",
      "[Parallel(n_jobs=15)]: Done 14148 tasks      | elapsed:  1.1min\n",
      "[Parallel(n_jobs=15)]: Done 16668 tasks      | elapsed:  1.2min\n",
      "[Parallel(n_jobs=15)]: Done 18000 out of 18000 | elapsed:  1.3min finished\n"
     ]
    },
    {
     "data": {
      "text/plain": [
       "GridSearchCV(cv=12, error_score=nan,\n",
       "             estimator=DecisionTreeClassifier(ccp_alpha=0.0, class_weight=None,\n",
       "                                              criterion='gini', max_depth=None,\n",
       "                                              max_features=None,\n",
       "                                              max_leaf_nodes=None,\n",
       "                                              min_impurity_decrease=0.0,\n",
       "                                              min_impurity_split=None,\n",
       "                                              min_samples_leaf=1,\n",
       "                                              min_samples_split=2,\n",
       "                                              min_weight_fraction_leaf=0.0,\n",
       "                                              presort='deprecated',\n",
       "                                              random_state=None,\n",
       "                                              splitter='best'),\n",
       "             iid='deprecated', n_jobs=15,\n",
       "             param_grid={'criterion': ['gini', 'entropy'],\n",
       "                         'max_features': ['auto', 'sqrt', 'log'],\n",
       "                         'max_leaf_nodes': [None, 6, 10, 14, 20],\n",
       "                         'min_samples_leaf': [1, 2, 3, 4, 5],\n",
       "                         'min_samples_split': [2, 4, 6, 8, 10],\n",
       "                         'splitter': ['best', 'random']},\n",
       "             pre_dispatch='2*n_jobs', refit=True, return_train_score=False,\n",
       "             scoring='roc_auc', verbose=5)"
      ]
     },
     "execution_count": 167,
     "metadata": {},
     "output_type": "execute_result"
    }
   ],
   "source": [
    "grid.fit(X_train, Y_train)"
   ]
  },
  {
   "cell_type": "code",
   "execution_count": 168,
   "metadata": {},
   "outputs": [],
   "source": [
    "min_split = [2, 4, 6, 8, 10]\n",
    "min_leaf = [1, 2, 3, 4, 5]\n",
    "max_nodes = [None, 6, 10, 14, 20]"
   ]
  },
  {
   "cell_type": "code",
   "execution_count": 169,
   "metadata": {},
   "outputs": [
    {
     "data": {
      "image/png": "[encoded data removed]",
      "text/plain": [
       "<Figure size 432x288 with 1 Axes>"
      ]
     },
     "metadata": {
      "needs_background": "light"
     },
     "output_type": "display_data"
    }
   ],
   "source": [
    "scores_from_param = []\n",
    "for i in min_split:\n",
    "    model = DecisionTreeClassifier(min_samples_split=i, min_samples_leaf=1, max_leaf_nodes=None)\n",
    "    scores_from_param.append(np.mean(my_cross_validation(model, X_train, Y_train, 12)))\n",
    "plt.scatter(min_split, scores_from_param)\n",
    "plt.xlabel('min_samples_split')\n",
    "plt.ylabel('ROC-AUC')\n",
    "plt.title('ROC-AUC from min_amples_split')\n",
    "plt.show()"
   ]
  },
  {
   "cell_type": "code",
   "execution_count": 170,
   "metadata": {},
   "outputs": [
    {
     "data": {
      "image/png": "[encoded data removed]",
      "text/plain": [
       "<Figure size 432x288 with 1 Axes>"
      ]
     },
     "metadata": {
      "needs_background": "light"
     },
     "output_type": "display_data"
    }
   ],
   "source": [
    "scores_from_param = []\n",
    "for i in min_leaf:\n",
    "    model = DecisionTreeClassifier(min_samples_split=2, min_samples_leaf=i, max_leaf_nodes=None)\n",
    "    scores_from_param.append(np.mean(my_cross_validation(model, X_train, Y_train, 12)))\n",
    "plt.scatter(min_split, scores_from_param)\n",
    "plt.xlabel('min_samples_leaf')\n",
    "plt.ylabel('ROC-AUC')\n",
    "plt.title('ROC-AUC from min_amples_leaf')\n",
    "plt.show()"
   ]
  },
  {
   "cell_type": "code",
   "execution_count": 171,
   "metadata": {},
   "outputs": [
    {
     "data": {
      "image/png": "[encoded data removed]",
      "text/plain": [
       "<Figure size 432x288 with 1 Axes>"
      ]
     },
     "metadata": {
      "needs_background": "light"
     },
     "output_type": "display_data"
    }
   ],
   "source": [
    "scores_from_param = []\n",
    "for i in max_nodes:\n",
    "    model = DecisionTreeClassifier(min_samples_split=2, min_samples_leaf=1, max_leaf_nodes=i)\n",
    "    scores_from_param.append(np.mean(my_cross_validation(model, X_train, Y_train, 12)))\n",
    "plt.scatter(min_split, scores_from_param)\n",
    "plt.xlabel('max_leaf_nodes')\n",
    "plt.ylabel('ROC-AUC')\n",
    "plt.title('ROC-AUC from max_leaf_nodes')\n",
    "plt.show()"
   ]
  },
  {
   "cell_type": "code",
   "execution_count": 212,
   "metadata": {},
   "outputs": [
    {
     "ename": "SyntaxError",
     "evalue": "invalid syntax (<ipython-input-212-f48c5c769959>, line 1)",
     "output_type": "error",
     "traceback": [
      "\u001b[0;36m  File \u001b[0;32m\"<ipython-input-212-f48c5c769959>\"\u001b[0;36m, line \u001b[0;32m1\u001b[0m\n\u001b[0;31m    Here, parameter values clearly influence performance\u001b[0m\n\u001b[0m                         ^\u001b[0m\n\u001b[0;31mSyntaxError\u001b[0m\u001b[0;31m:\u001b[0m invalid syntax\n"
     ]
    }
   ],
   "source": [
    "Here, parameter values clearly influence performance"
   ]
  },
  {
   "cell_type": "code",
   "execution_count": 172,
   "metadata": {},
   "outputs": [
    {
     "data": {
      "text/plain": [
       "DecisionTreeClassifier(ccp_alpha=0.0, class_weight=None, criterion='entropy',\n",
       "                       max_depth=None, max_features='auto', max_leaf_nodes=14,\n",
       "                       min_impurity_decrease=0.0, min_impurity_split=None,\n",
       "                       min_samples_leaf=1, min_samples_split=8,\n",
       "                       min_weight_fraction_leaf=0.0, presort='deprecated',\n",
       "                       random_state=None, splitter='best')"
      ]
     },
     "execution_count": 172,
     "metadata": {},
     "output_type": "execute_result"
    }
   ],
   "source": [
    "model = grid.best_estimator_\n",
    "model.fit(X_train, Y_train)"
   ]
  },
  {
   "cell_type": "code",
   "execution_count": 173,
   "metadata": {},
   "outputs": [
    {
     "data": {
      "text/plain": [
       "<function matplotlib.pyplot.show(*args, **kw)>"
      ]
     },
     "execution_count": 173,
     "metadata": {},
     "output_type": "execute_result"
    },
    {
     "data": {
      "image/png": "[encoded data removed]",
      "text/plain": [
       "<Figure size 432x288 with 1 Axes>"
      ]
     },
     "metadata": {
      "needs_background": "light"
     },
     "output_type": "display_data"
    }
   ],
   "source": [
    "scores = model.predict_proba(X_test)\n",
    "fpr, tpr, thresholds = roc_curve(Y_test, scores[:,1])\n",
    "plt.plot(fpr, tpr)\n",
    "plt.xlabel('TPR')\n",
    "plt.ylabel('FPR')\n",
    "plt.title('Roc curve')\n",
    "plt.show"
   ]
  },
  {
   "cell_type": "code",
   "execution_count": 174,
   "metadata": {},
   "outputs": [
    {
     "data": {
      "text/plain": [
       "0.7740695376967984"
      ]
     },
     "execution_count": 174,
     "metadata": {},
     "output_type": "execute_result"
    }
   ],
   "source": [
    "roc_auc_score(Y_test, scores[:, 1])"
   ]
  },
  {
   "cell_type": "code",
   "execution_count": 175,
   "metadata": {},
   "outputs": [],
   "source": [
    "res = model.predict_proba(test[features_dec_tree])\n",
    "sample['stroke'] = res[:, 1]\n",
    "sample.to_csv('submit_dec_tree.csv', index = None )"
   ]
  },
  {
   "cell_type": "markdown",
   "metadata": {},
   "source": [
    "Leaderboard score - 0.81591"
   ]
  },
  {
   "cell_type": "markdown",
   "metadata": {},
   "source": [
    "#### Random forest"
   ]
  },
  {
   "cell_type": "code",
   "execution_count": 189,
   "metadata": {},
   "outputs": [],
   "source": [
    "X_train, X_test, Y_train, Y_test = train_test_split(train, y, test_size=0.2)"
   ]
  },
  {
   "cell_type": "code",
   "execution_count": 190,
   "metadata": {},
   "outputs": [
    {
     "name": "stdout",
     "output_type": "stream",
     "text": [
      "3 0.7812247043189865\n",
      "4 0.7852248319386097\n",
      "5 0.7836078423018208\n",
      "6 0.7727719378500898\n",
      "7 0.7924257519667831\n",
      "8 0.7846383660290797\n",
      "9 0.7764859307240872\n",
      "10 0.7778189495446896\n",
      "11 0.7777414405937378\n",
      "12 0.7768064238495409\n",
      "13 0.779710886098951\n",
      "14 0.7767206077544626\n",
      "15 0.7782764994822867\n",
      "16 0.7730913713952654\n",
      "17 0.7838591585125462\n",
      "18 0.7720038902034998\n",
      "19 0.7761187051991231\n",
      "20 0.7788976427330925\n"
     ]
    }
   ],
   "source": [
    "for i in range(3, 21):\n",
    "    model = RandomForestClassifier()\n",
    "    print(i, np.mean(my_cross_validation(model, X_train, Y_train, cv=i)))"
   ]
  },
  {
   "cell_type": "markdown",
   "metadata": {},
   "source": [
    "Optimal split - 4"
   ]
  },
  {
   "cell_type": "code",
   "execution_count": 191,
   "metadata": {},
   "outputs": [
    {
     "name": "stdout",
     "output_type": "stream",
     "text": [
      "gender 0.5099614949266406\n",
      "age 0.8246154827573746\n",
      "hypertension 0.575589875156748\n",
      "heart_disease 0.5861520012694834\n",
      "ever_married 0.6312332652903585\n",
      "work_type 0.5938705685728407\n",
      "Residence_type 0.4798933241968423\n",
      "avg_glucose_level 0.4976299571685041\n",
      "bmi 0.5602935125376151\n",
      "smoking_status 0.591501304877883\n"
     ]
    }
   ],
   "source": [
    "features = X_train.columns\n",
    "model = RandomForestClassifier()\n",
    "features_scores = {}\n",
    "for f in features:\n",
    "    scores = my_cross_validation(model, X_train[[f]] , Y_train, 4)\n",
    "    print(f,  np.mean(scores))\n",
    "    features_scores[f] = np.mean(scores)"
   ]
  },
  {
   "cell_type": "markdown",
   "metadata": {},
   "source": [
    "For random forest, we see that strong prediction power belongs to age, ever_married, work_type, heart_disease, bmi (let's choose every feature for which ROC-AUC score is bigger than 0.58)."
   ]
  },
  {
   "cell_type": "code",
   "execution_count": 192,
   "metadata": {},
   "outputs": [],
   "source": [
    "features_rand_for = ['age', 'ever_married', 'work_type', 'heart_disease', 'smoking_status']\n",
    "X_train, X_test = X_train[features_rand_for], X_test[features_rand_for]"
   ]
  },
  {
   "cell_type": "code",
   "execution_count": 196,
   "metadata": {},
   "outputs": [],
   "source": [
    "params_rand_for = {\n",
    "    'criterion' : ['gini', 'entropy'],\n",
    "    'n_estimators': [10, 50, 100, 150, 200],\n",
    "    'max_depth' : [None, 5, 7, 9, 11],\n",
    "    'max_features': ['auto', 'sqrt', 'log'], \n",
    "}\n",
    "model = RandomForestClassifier()\n",
    "grid = GridSearchCV(model, params_rand_for, n_jobs=15, scoring=\"roc_auc\", cv=4, verbose=5) \n",
    "#searching through all possible hypreparemeter combinations with 10-fold cross-validation and \n",
    "#choosing the combination with best auc score"
   ]
  },
  {
   "cell_type": "code",
   "execution_count": 197,
   "metadata": {},
   "outputs": [
    {
     "name": "stdout",
     "output_type": "stream",
     "text": [
      "Fitting 4 folds for each of 150 candidates, totalling 600 fits\n"
     ]
    },
    {
     "name": "stderr",
     "output_type": "stream",
     "text": [
      "[Parallel(n_jobs=15)]: Using backend LokyBackend with 15 concurrent workers.\n",
      "[Parallel(n_jobs=15)]: Done  42 tasks      | elapsed:    5.3s\n",
      "[Parallel(n_jobs=15)]: Done 132 tasks      | elapsed:   11.8s\n",
      "[Parallel(n_jobs=15)]: Done 258 tasks      | elapsed:   22.8s\n",
      "[Parallel(n_jobs=15)]: Done 420 tasks      | elapsed:   36.1s\n",
      "[Parallel(n_jobs=15)]: Done 600 out of 600 | elapsed:   54.3s finished\n"
     ]
    },
    {
     "data": {
      "text/plain": [
       "GridSearchCV(cv=4, error_score=nan,\n",
       "             estimator=RandomForestClassifier(bootstrap=True, ccp_alpha=0.0,\n",
       "                                              class_weight=None,\n",
       "                                              criterion='gini', max_depth=None,\n",
       "                                              max_features='auto',\n",
       "                                              max_leaf_nodes=None,\n",
       "                                              max_samples=None,\n",
       "                                              min_impurity_decrease=0.0,\n",
       "                                              min_impurity_split=None,\n",
       "                                              min_samples_leaf=1,\n",
       "                                              min_samples_split=2,\n",
       "                                              min_weight_fraction_leaf=0.0,\n",
       "                                              n_estimators=100, n_jobs=None,\n",
       "                                              oob_score=False,\n",
       "                                              random_state=None, verbose=0,\n",
       "                                              warm_start=False),\n",
       "             iid='deprecated', n_jobs=15,\n",
       "             param_grid={'criterion': ['gini', 'entropy'],\n",
       "                         'max_depth': [3, 5, 7, 9, 11],\n",
       "                         'max_features': ['auto', 'sqrt', 'log'],\n",
       "                         'n_estimators': [10, 50, 100, 150, 200]},\n",
       "             pre_dispatch='2*n_jobs', refit=True, return_train_score=False,\n",
       "             scoring='roc_auc', verbose=5)"
      ]
     },
     "execution_count": 197,
     "metadata": {},
     "output_type": "execute_result"
    }
   ],
   "source": [
    "grid.fit(X_train, Y_train)"
   ]
  },
  {
   "cell_type": "code",
   "execution_count": 200,
   "metadata": {},
   "outputs": [],
   "source": [
    "min_split = [2, 4, 6, 8, 10]\n",
    "n_estimators = [10, 50, 100, 150, 200]\n",
    "max_depth = [None, 5, 7, 9, 11]"
   ]
  },
  {
   "cell_type": "code",
   "execution_count": 201,
   "metadata": {},
   "outputs": [
    {
     "data": {
      "image/png": "[encoded data removed]",
      "text/plain": [
       "<Figure size 432x288 with 1 Axes>"
      ]
     },
     "metadata": {
      "needs_background": "light"
     },
     "output_type": "display_data"
    }
   ],
   "source": [
    "scores_from_param = []\n",
    "for i in min_split:\n",
    "    model = RandomForestClassifier(min_samples_split=i, n_estimators=100, max_depth=None)\n",
    "    scores_from_param.append(np.mean(my_cross_validation(model, X_train, Y_train, 4)))\n",
    "plt.scatter(min_split, scores_from_param)\n",
    "plt.xlabel('min_samples_split')\n",
    "plt.ylabel('ROC-AUC')\n",
    "plt.title('ROC-AUC from min_amples_split')\n",
    "plt.show()"
   ]
  },
  {
   "cell_type": "code",
   "execution_count": 203,
   "metadata": {},
   "outputs": [
    {
     "data": {
      "image/png": "[encoded data removed]",
      "text/plain": [
       "<Figure size 432x288 with 1 Axes>"
      ]
     },
     "metadata": {
      "needs_background": "light"
     },
     "output_type": "display_data"
    }
   ],
   "source": [
    "scores_from_param = []\n",
    "for i in n_estimators:\n",
    "    model = RandomForestClassifier(min_samples_split=2, n_estimators=i, max_depth=None)\n",
    "    scores_from_param.append(np.mean(my_cross_validation(model, X_train, Y_train, 4)))\n",
    "plt.scatter(max_depth, scores_from_param)\n",
    "plt.xlabel('n_estimators')\n",
    "plt.ylabel('ROC-AUC')\n",
    "plt.title('ROC-AUC from n_estimators')\n",
    "plt.show()"
   ]
  },
  {
   "cell_type": "code",
   "execution_count": 211,
   "metadata": {},
   "outputs": [
    {
     "data": {
      "image/png": "[encoded data removed]",
      "text/plain": [
       "<Figure size 432x288 with 1 Axes>"
      ]
     },
     "metadata": {
      "needs_background": "light"
     },
     "output_type": "display_data"
    }
   ],
   "source": [
    "scores_from_param = []\n",
    "for i in max_depth:\n",
    "    model = RandomForestClassifier(min_samples_split=2, n_estimators=100, max_depth=i)\n",
    "    scores_from_param.append(np.mean(my_cross_validation(model, X_train, Y_train, 4)))\n",
    "plt.scatter(max_depth, scores_from_param)\n",
    "plt.xlabel('max_depth')\n",
    "plt.ylabel('ROC-AUC')\n",
    "plt.title('ROC-AUC from max_depth')\n",
    "plt.show()"
   ]
  },
  {
   "cell_type": "markdown",
   "metadata": {},
   "source": [
    "Here, parameter values clearly influence performance"
   ]
  },
  {
   "cell_type": "code",
   "execution_count": 205,
   "metadata": {},
   "outputs": [
    {
     "data": {
      "text/plain": [
       "RandomForestClassifier(bootstrap=True, ccp_alpha=0.0, class_weight=None,\n",
       "                       criterion='entropy', max_depth=3, max_features='auto',\n",
       "                       max_leaf_nodes=None, max_samples=None,\n",
       "                       min_impurity_decrease=0.0, min_impurity_split=None,\n",
       "                       min_samples_leaf=1, min_samples_split=2,\n",
       "                       min_weight_fraction_leaf=0.0, n_estimators=50,\n",
       "                       n_jobs=None, oob_score=False, random_state=None,\n",
       "                       verbose=0, warm_start=False)"
      ]
     },
     "execution_count": 205,
     "metadata": {},
     "output_type": "execute_result"
    }
   ],
   "source": [
    "model = grid.best_estimator_\n",
    "model.fit(X_train, Y_train)"
   ]
  },
  {
   "cell_type": "code",
   "execution_count": 206,
   "metadata": {},
   "outputs": [
    {
     "data": {
      "text/plain": [
       "<function matplotlib.pyplot.show(*args, **kw)>"
      ]
     },
     "execution_count": 206,
     "metadata": {},
     "output_type": "execute_result"
    },
    {
     "data": {
      "image/png": "[encoded data removed]",
      "text/plain": [
       "<Figure size 432x288 with 1 Axes>"
      ]
     },
     "metadata": {
      "needs_background": "light"
     },
     "output_type": "display_data"
    }
   ],
   "source": [
    "scores = model.predict_proba(X_test)\n",
    "fpr, tpr, thresholds = roc_curve(Y_test, scores[:,1])\n",
    "plt.plot(fpr, tpr)\n",
    "plt.xlabel('TPR')\n",
    "plt.ylabel('FPR')\n",
    "plt.title('Roc curve')\n",
    "plt.show"
   ]
  },
  {
   "cell_type": "code",
   "execution_count": 207,
   "metadata": {},
   "outputs": [
    {
     "data": {
      "text/plain": [
       "0.8378511677529137"
      ]
     },
     "execution_count": 207,
     "metadata": {},
     "output_type": "execute_result"
    }
   ],
   "source": [
    "roc_auc_score(Y_test, scores[:, 1])"
   ]
  },
  {
   "cell_type": "code",
   "execution_count": 210,
   "metadata": {},
   "outputs": [],
   "source": [
    "res = model.predict_proba(test[features_dec_tree])\n",
    "sample['stroke'] = res[:, 1]\n",
    "sample.to_csv('submit_rand_for.csv', index = None )"
   ]
  },
  {
   "cell_type": "markdown",
   "metadata": {},
   "source": [
    "Leaderboard score 0.84977"
   ]
  }
 ],
 "metadata": {
  "kernelspec": {
   "display_name": "Python 3",
   "language": "python",
   "name": "python3"
  },
  "language_info": {
   "codemirror_mode": {
    "name": "ipython",
    "version": 3
   },
   "file_extension": ".py",
   "mimetype": "text/x-python",
   "name": "python",
   "nbconvert_exporter": "python",
   "pygments_lexer": "ipython3",
   "version": "3.7.7"
  }
 },
 "nbformat": 4,
 "nbformat_minor": 2
}
